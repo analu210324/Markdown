{
 "cells": [
  {
   "cell_type": "markdown",
   "id": "f6403903",
   "metadata": {},
   "source": [
    "# Git\n",
    "## ¿Que es Git?\n",
    "Git es un sistema que permite el control de versiones sobre códigos,facilitando la gestion los proyectos, valiendose de la plataforma Github la cual se encarga de almacenar los documentos en la nube.\n",
    "El objetivo de Git se resume a que los usuarios obtengan un histórico sobre los proyectos que se trabajan.\n",
    "Comunmente esta herramienta es utilizada por parte de desarrolladores de código, facilitandoeles llevar un control sobre las versiones de código que van realizando a lo largo del proyecto que realicen, lo que permite el dar reversa a cambios no deseados y optimizacion de tiempos de entrega.\n",
    "\n",
    "**Ventajas de Git:**\n",
    "1. Facilita el trabajo colaborativo \n",
    "2. Permite el versionamiento de código\n",
    "3. Permite el control de cambios\n",
    "4. Ayuda en el resguardo del código o proyecto\n",
    "5. Es código abierto\n",
    "\n",
    "*Desventaja de Git*\n",
    "1. Se debe fomentar una cultura en la organización /personas para que funcione el uso de este sistema\n",
    "\n",
    "\n",
    "Actualmente Git es utilizado a través de la plataforma Github, al cual los desarrolladores y usuarios acceden para cargar y dar seguimiento los códigos de desarrollo tienen alojados.\n",
    "Cabe resaltar lo potente que es la herramienta Git y fue desarrollado para operar en el entorno Linux, sin embargo derivado de su valioso aporte y la popularidad que fue cobrando con el tiempo, se vieron en la necesidad sus creadores en brindar a sus usuarios el que sus sistemas operativos interactuaran con dicho sistema, alcanzandose la compatibilidad con el mismo, sistemas como MacOS y windows hoy en día gozan de los beneficios que brinda el sistema Git.\n",
    "La forma en que podemos aprovechar la eficiencia de este sistema es a través del uso de documentos de texto plano.\n",
    "Otro hecho interesante es que hoy en día las empresas están implementando a sus procesos el uso de este sistema y es que es un hecho que el tener salvaguardado los códigos de desarrollo y el poder dar seguimiento a los mismos en la garantía de que la información está en donde todo el equipo puede tener acceso y visualizar los avances que se vayan realizando, generando un flujo de producción más limpio, a pesar de ello es una cultura que debe trabajarse en las personas para permitirse el cambio y apegarse a lo que sin duda son las tecnologías que están a la vanguardia."
   ]
  }
 ],
 "metadata": {
  "kernelspec": {
   "display_name": "Python 3 (ipykernel)",
   "language": "python",
   "name": "python3"
  },
  "language_info": {
   "codemirror_mode": {
    "name": "ipython",
    "version": 3
   },
   "file_extension": ".py",
   "mimetype": "text/x-python",
   "name": "python",
   "nbconvert_exporter": "python",
   "pygments_lexer": "ipython3",
   "version": "3.9.13"
  }
 },
 "nbformat": 4,
 "nbformat_minor": 5
}
